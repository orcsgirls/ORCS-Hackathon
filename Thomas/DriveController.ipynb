{
 "cells": [
  {
   "cell_type": "code",
   "execution_count": null,
   "id": "ee182736",
   "metadata": {},
   "outputs": [],
   "source": [
    "%load_ext autoreload\n",
    "%autoreload 2"
   ]
  },
  {
   "cell_type": "code",
   "execution_count": null,
   "id": "b784793e",
   "metadata": {},
   "outputs": [],
   "source": [
    "import ipywidgets.widgets as widgets\n",
    "import time\n",
    "from aiy.vision.streaming.server import StreamingServer\n",
    "from picamera import PiCamera\n",
    "from IPython.display import display, HTML, IFrame\n",
    "from robot import Robot"
   ]
  },
  {
   "cell_type": "markdown",
   "id": "714991a0",
   "metadata": {},
   "source": [
    "## Game Controller\n",
    "\n",
    "Simple test to run the AIY robot using a game controller. The Controller widget takes a index parameter, which specifies the number of the controller. This is useful in case you have multiple controllers attached, or some gamepads appear as multiple controllers. To determine the index of the controller you're using,\n",
    "\n",
    "* Visit http://html5gamepad.com.\n",
    "* Press buttons on the gamepad you're using\n",
    "* Remember the index of the gamepad that is responding to the button presses"
   ]
  },
  {
   "cell_type": "code",
   "execution_count": null,
   "id": "b211bbbd",
   "metadata": {},
   "outputs": [],
   "source": [
    "controller = widgets.Controller(index=0)\n",
    "display(controller)"
   ]
  },
  {
   "cell_type": "markdown",
   "id": "ea024b9e",
   "metadata": {},
   "source": [
    "Next we create the robot object (we need to create the robot/robot.py) for our robot."
   ]
  },
  {
   "cell_type": "code",
   "execution_count": null,
   "id": "db1bfc54",
   "metadata": {},
   "outputs": [],
   "source": [
    "bot=Robot()"
   ]
  },
  {
   "cell_type": "markdown",
   "id": "263eeb3b",
   "metadata": {},
   "source": [
    "Now we link the left and right thumbstick to the motor values. Note you need to connect the controller successfully before running this."
   ]
  },
  {
   "cell_type": "code",
   "execution_count": null,
   "id": "8c575e59",
   "metadata": {},
   "outputs": [],
   "source": [
    "def onChangeLeft(change):\n",
    "    bot.motor_left.value = -change['new']\n",
    "\n",
    "def onChangeRight(change):\n",
    "    bot.motor_right.value = -change['new']\n",
    "\n",
    "controller.axes[1].observe(onChangeLeft, names='value')\n",
    "controller.axes[3].observe(onChangeRight, names='value')"
   ]
  },
  {
   "cell_type": "markdown",
   "id": "b1c52d73",
   "metadata": {},
   "source": [
    "Now we start the camera streaming and display a frame with the video."
   ]
  },
  {
   "cell_type": "code",
   "execution_count": null,
   "id": "90170b54",
   "metadata": {},
   "outputs": [],
   "source": [
    "# Starting streaming camera\n",
    "camera = PiCamera(sensor_mode=4, resolution=(410, 308))\n",
    "server = StreamingServer(camera, bitrate=75000)"
   ]
  },
  {
   "cell_type": "code",
   "execution_count": null,
   "id": "2ab50e22",
   "metadata": {
    "scrolled": false
   },
   "outputs": [],
   "source": [
    "# video frame\n",
    "video = widgets.HTML(value=\"<iframe src='http://192.168.0.138:4664/' width=450 height=380>\")\n",
    "display(video)"
   ]
  },
  {
   "cell_type": "markdown",
   "id": "29e66801",
   "metadata": {},
   "source": [
    "### Control and enjoy\n",
    "\n",
    "Note the poor little Pi Zero is kind of struggling and the resonse is sluggish. So drive slow 🙂 When done run the cells below to close everything properly. You still need to restart the kernel to run it again because of the Servos apparently not releasing the pins properly."
   ]
  },
  {
   "cell_type": "code",
   "execution_count": null,
   "id": "34daca26",
   "metadata": {},
   "outputs": [],
   "source": [
    "server.close()\n",
    "camera.close()\n",
    "bot.close()"
   ]
  },
  {
   "cell_type": "code",
   "execution_count": null,
   "id": "ca7ea63e",
   "metadata": {},
   "outputs": [],
   "source": []
  }
 ],
 "metadata": {
  "kernelspec": {
   "display_name": "Python 3 (ipykernel)",
   "language": "python",
   "name": "python3"
  },
  "language_info": {
   "codemirror_mode": {
    "name": "ipython",
    "version": 3
   },
   "file_extension": ".py",
   "mimetype": "text/x-python",
   "name": "python",
   "nbconvert_exporter": "python",
   "pygments_lexer": "ipython3",
   "version": "3.7.3"
  }
 },
 "nbformat": 4,
 "nbformat_minor": 5
}
