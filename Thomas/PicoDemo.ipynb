{
 "cells": [
  {
   "cell_type": "markdown",
   "id": "a0172bc1",
   "metadata": {},
   "source": [
    "### Serial Demo\n",
    "\n",
    "This code shows how to communicate with the Raspberry Pico using the USB port. Make sure the Pico is plugged into the Data USB port (middle) and the code in the Pico folder (both `code.py` and `boot.py`) are on the Pico. Note the Pi might need a few minutes after the USC is plugged in to respond again."
   ]
  },
  {
   "cell_type": "code",
   "execution_count": null,
   "id": "611d7065",
   "metadata": {},
   "outputs": [],
   "source": [
    "import serial\n",
    "import time"
   ]
  },
  {
   "cell_type": "markdown",
   "id": "d8d10ac8",
   "metadata": {},
   "source": [
    "First we open the serial port. you can check the device names by running the command `ls /dev/ttyA*` in a terminal."
   ]
  },
  {
   "cell_type": "code",
   "execution_count": null,
   "id": "b73348a5",
   "metadata": {},
   "outputs": [],
   "source": [
    "s = serial.Serial(\"/dev/ttyACM1\", 115200)   # Note ACM0 is CIRCUITPY Drive"
   ]
  },
  {
   "cell_type": "markdown",
   "id": "84beb89e",
   "metadata": {},
   "source": [
    "Now we can write to the serial line and blink the (on board) LED on the Pico. the `b` ensures it is written as bytes and we need to have the 'enter' after it using `\\r`."
   ]
  },
  {
   "cell_type": "code",
   "execution_count": null,
   "id": "59f55da1",
   "metadata": {},
   "outputs": [],
   "source": [
    "s.write(b\"light\\r\")\n",
    "time.sleep(1)\n",
    "s.write(b\"light\\r\")"
   ]
  },
  {
   "cell_type": "markdown",
   "id": "1a9082f6",
   "metadata": {},
   "source": [
    "### Making a button for the light\n",
    "\n",
    "We use ipywidgets again to make a button to toggle the light."
   ]
  },
  {
   "cell_type": "code",
   "execution_count": null,
   "id": "deba3d07",
   "metadata": {},
   "outputs": [],
   "source": [
    "import ipywidgets as widgets"
   ]
  },
  {
   "cell_type": "code",
   "execution_count": null,
   "id": "7105f6a4",
   "metadata": {},
   "outputs": [],
   "source": [
    "toggle = widgets.ToggleButton(description='Light')\n",
    "\n",
    "def doSwitch(change):\n",
    "    s.write(b\"light\\r\")\n",
    "\n",
    "toggle.observe(doSwitch, 'value')"
   ]
  },
  {
   "cell_type": "markdown",
   "id": "8b825703",
   "metadata": {},
   "source": [
    "All setup. Now we display the button and try :)"
   ]
  },
  {
   "cell_type": "code",
   "execution_count": null,
   "id": "8235c63a",
   "metadata": {},
   "outputs": [],
   "source": [
    "display(toggle)"
   ]
  },
  {
   "cell_type": "code",
   "execution_count": null,
   "id": "39f35280",
   "metadata": {},
   "outputs": [],
   "source": []
  }
 ],
 "metadata": {
  "kernelspec": {
   "display_name": "Python 3 (ipykernel)",
   "language": "python",
   "name": "python3"
  },
  "language_info": {
   "codemirror_mode": {
    "name": "ipython",
    "version": 3
   },
   "file_extension": ".py",
   "mimetype": "text/x-python",
   "name": "python",
   "nbconvert_exporter": "python",
   "pygments_lexer": "ipython3",
   "version": "3.7.3"
  }
 },
 "nbformat": 4,
 "nbformat_minor": 5
}
