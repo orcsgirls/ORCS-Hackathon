{
 "cells": [
  {
   "cell_type": "markdown",
   "id": "a0172bc1",
   "metadata": {},
   "source": [
    "### Serial Demo\n",
    "\n",
    "This code shows how to communicate with the Raspberry Pico using the USB port. Make sure the Pico is plugged into the Data USB port (middle) and the code in the Pico folder (both `code.py` and `boot.py`) are on the Pico. Note the Pi might need a few minutes after the USC is plugged in to respond again."
   ]
  },
  {
   "cell_type": "code",
   "execution_count": 1,
   "id": "611d7065",
   "metadata": {},
   "outputs": [],
   "source": [
    "import serial\n",
    "import time"
   ]
  },
  {
   "cell_type": "markdown",
   "id": "d8d10ac8",
   "metadata": {},
   "source": [
    "First we open the serial port. you can check the device names by running the command `ls /dev/ttyA*` in a terminal."
   ]
  },
  {
   "cell_type": "code",
   "execution_count": 2,
   "id": "b73348a5",
   "metadata": {},
   "outputs": [],
   "source": [
    "s = serial.Serial(\"/dev/ttyACM1\", 115200)   # Note ACM0 is CIRCUITPY Drive"
   ]
  },
  {
   "cell_type": "markdown",
   "id": "84beb89e",
   "metadata": {},
   "source": [
    "Now we can write to the serial line and blink the (on board) LED on the Pico. the `b` ensures it is written as bytes and we need to have the 'enter' after it using `\\r`. We assume you are running `codeSerialNeoPixel.py` renames as `code.py` on the Pico."
   ]
  },
  {
   "cell_type": "code",
   "execution_count": 3,
   "id": "59f55da1",
   "metadata": {},
   "outputs": [
    {
     "data": {
      "text/plain": [
       "10"
      ]
     },
     "execution_count": 3,
     "metadata": {},
     "output_type": "execute_result"
    }
   ],
   "source": [
    "s.write(b\"neo 255 0 0\\r\")\n",
    "time.sleep(1)\n",
    "s.write(b\"neo 0 0 0\\r\")"
   ]
  },
  {
   "cell_type": "markdown",
   "id": "1a9082f6",
   "metadata": {},
   "source": [
    "### Making a button for the light\n",
    "\n",
    "We use ipywidgets again to make a button to toggle the light."
   ]
  },
  {
   "cell_type": "code",
   "execution_count": 4,
   "id": "deba3d07",
   "metadata": {},
   "outputs": [],
   "source": [
    "import ipywidgets as widgets\n",
    "from PIL import ImageColor"
   ]
  },
  {
   "cell_type": "code",
   "execution_count": 11,
   "id": "7105f6a4",
   "metadata": {},
   "outputs": [],
   "source": [
    "toggle = widgets.ToggleButton(description='Light')\n",
    "color = widgets.ColorPicker(concise=False, description='Pick a color', value='#FF0000', disabled=False)\n",
    "\n",
    "def doSwitch(change):\n",
    "    if(change['new']):\n",
    "        c=ImageColor.getcolor(color.value, \"RGB\")\n",
    "        command=bytes(f\"neo {c[0]} {c[1]} {c[2]}\\r\", 'utf-8')\n",
    "        s.write(command)\n",
    "    else:\n",
    "        s.write(b\"neo 0 0 0\\r\")\n",
    "\n",
    "toggle.observe(doSwitch, 'value')"
   ]
  },
  {
   "cell_type": "markdown",
   "id": "8b825703",
   "metadata": {},
   "source": [
    "All setup. Now we display the button and try :)"
   ]
  },
  {
   "cell_type": "code",
   "execution_count": 12,
   "id": "8235c63a",
   "metadata": {},
   "outputs": [
    {
     "data": {
      "application/vnd.jupyter.widget-view+json": {
       "model_id": "3871b2c79c844417a56636832be1c2c0",
       "version_major": 2,
       "version_minor": 0
      },
      "text/plain": [
       "ColorPicker(value='#FF0000', description='Pick a color')"
      ]
     },
     "metadata": {},
     "output_type": "display_data"
    },
    {
     "data": {
      "application/vnd.jupyter.widget-view+json": {
       "model_id": "f12c4ba306eb47398db1b0fe8deb0c2b",
       "version_major": 2,
       "version_minor": 0
      },
      "text/plain": [
       "ToggleButton(value=False, description='Light')"
      ]
     },
     "metadata": {},
     "output_type": "display_data"
    }
   ],
   "source": [
    "display(color,toggle)"
   ]
  },
  {
   "cell_type": "markdown",
   "id": "5be4ac38",
   "metadata": {},
   "source": [
    "Close the port again."
   ]
  },
  {
   "cell_type": "code",
   "execution_count": 13,
   "id": "94261135",
   "metadata": {},
   "outputs": [],
   "source": [
    "s.close()"
   ]
  },
  {
   "cell_type": "code",
   "execution_count": null,
   "id": "2c35d79d",
   "metadata": {},
   "outputs": [],
   "source": []
  }
 ],
 "metadata": {
  "kernelspec": {
   "display_name": "Python 3 (ipykernel)",
   "language": "python",
   "name": "python3"
  },
  "language_info": {
   "codemirror_mode": {
    "name": "ipython",
    "version": 3
   },
   "file_extension": ".py",
   "mimetype": "text/x-python",
   "name": "python",
   "nbconvert_exporter": "python",
   "pygments_lexer": "ipython3",
   "version": "3.7.3"
  }
 },
 "nbformat": 4,
 "nbformat_minor": 5
}
