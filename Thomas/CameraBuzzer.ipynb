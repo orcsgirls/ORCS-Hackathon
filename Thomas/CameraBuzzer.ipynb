{
 "cells": [
  {
   "cell_type": "markdown",
   "id": "af668cb8",
   "metadata": {},
   "source": [
    "### Camera Buzzer\n",
    "\n",
    "This is a short notebook to demonstrate how to use the buzzer on the AIY camera as inspiration for more robot functions 🙂"
   ]
  },
  {
   "cell_type": "code",
   "execution_count": 18,
   "id": "e0563846",
   "metadata": {},
   "outputs": [],
   "source": [
    "from aiy.leds import Leds, PrivacyLed\n",
    "from aiy.toneplayer import TonePlayer\n",
    "import time"
   ]
  },
  {
   "cell_type": "markdown",
   "id": "dd8f46bd",
   "metadata": {},
   "source": [
    "Lets start with the buzzer. For more details about the `toneplayer` class read the <a href=\"https://aiyprojects.readthedocs.io/en/latest/aiy.toneplayer.html\">documentation</a>. It also explains the code for the musical notes 🎵"
   ]
  },
  {
   "cell_type": "code",
   "execution_count": 19,
   "id": "fc22b0a5",
   "metadata": {},
   "outputs": [],
   "source": [
    "BUZZER_GPIO = 22\n",
    "\n",
    "# Sounds from the joy detector\n",
    "JOY_SOUND = ('C5q', 'E5q', 'C6q')\n",
    "SAD_SOUND = ('C6q', 'E5q', 'C5q')\n",
    "MODEL_LOAD_SOUND = ('C6w', 'c6w', 'C6w')\n",
    "BEEP_SOUND = ('E6q', 'C6q')\n",
    "\n",
    "toneplayer = TonePlayer(gpio=BUZZER_GPIO, bpm=10)"
   ]
  },
  {
   "cell_type": "code",
   "execution_count": 20,
   "id": "05366fe6",
   "metadata": {},
   "outputs": [],
   "source": [
    "toneplayer.play(*MODEL_LOAD_SOUND)"
   ]
  }
 ],
 "metadata": {
  "kernelspec": {
   "display_name": "Python 3 (ipykernel)",
   "language": "python",
   "name": "python3"
  },
  "language_info": {
   "codemirror_mode": {
    "name": "ipython",
    "version": 3
   },
   "file_extension": ".py",
   "mimetype": "text/x-python",
   "name": "python",
   "nbconvert_exporter": "python",
   "pygments_lexer": "ipython3",
   "version": "3.7.3"
  }
 },
 "nbformat": 4,
 "nbformat_minor": 5
}
