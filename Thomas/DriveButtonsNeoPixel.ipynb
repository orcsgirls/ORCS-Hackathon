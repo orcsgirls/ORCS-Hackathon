{
 "cells": [
  {
   "cell_type": "code",
   "execution_count": 1,
   "id": "2a313a26",
   "metadata": {},
   "outputs": [],
   "source": [
    "%load_ext autoreload\n",
    "%autoreload 2"
   ]
  },
  {
   "cell_type": "code",
   "execution_count": 2,
   "id": "b784793e",
   "metadata": {},
   "outputs": [],
   "source": [
    "import ipywidgets.widgets as widgets\n",
    "import time\n",
    "import serial\n",
    "from PIL import ImageColor\n",
    "from IPython.display import display, HTML, IFrame\n",
    "from aiy.vision.streaming.server import StreamingServer\n",
    "from picamera import PiCamera\n",
    "from robot import Robot"
   ]
  },
  {
   "cell_type": "markdown",
   "id": "b08f43e1",
   "metadata": {},
   "source": [
    "## Button Controller\n",
    "\n",
    "Simple test to run the AIY robot using `ipywidgets` buttons. Creating serial connection to Pico, robot object and streaming server."
   ]
  },
  {
   "cell_type": "code",
   "execution_count": 3,
   "id": "ab798cfc",
   "metadata": {},
   "outputs": [],
   "source": [
    "s = serial.Serial(\"/dev/ttyACM1\", 115200)   # Note ACM0 is CIRCUITPY Drive"
   ]
  },
  {
   "cell_type": "code",
   "execution_count": 4,
   "id": "232358b5",
   "metadata": {},
   "outputs": [
    {
     "name": "stderr",
     "output_type": "stream",
     "text": [
      "/usr/lib/python3/dist-packages/gpiozero/output_devices.py:1533: PWMSoftwareFallback: To reduce servo jitter, use the pigpio pin factory.See https://gpiozero.readthedocs.io/en/stable/api_output.html#servo for more info\n",
      "  'To reduce servo jitter, use the pigpio pin factory.'\n"
     ]
    }
   ],
   "source": [
    "bot = Robot()"
   ]
  },
  {
   "cell_type": "code",
   "execution_count": 5,
   "id": "90170b54",
   "metadata": {},
   "outputs": [],
   "source": [
    "camera = PiCamera(sensor_mode=4, resolution=(410, 308))\n",
    "server = StreamingServer(camera, bitrate=75000)"
   ]
  },
  {
   "cell_type": "markdown",
   "id": "665ac72e",
   "metadata": {},
   "source": [
    "Now we create the buttons and add the callbacks."
   ]
  },
  {
   "cell_type": "code",
   "execution_count": 6,
   "id": "2ab50e22",
   "metadata": {
    "scrolled": false
   },
   "outputs": [],
   "source": [
    "button_layout = widgets.Layout(width='80px', height='60px', align_self='center')\n",
    "\n",
    "stop_button = widgets.Button(description='stop', button_style='danger', layout=button_layout)\n",
    "forward_button = widgets.Button(description='forward', layout=button_layout)\n",
    "backward_button = widgets.Button(description='backward', layout=button_layout)\n",
    "left_button = widgets.Button(description='left', layout=button_layout)\n",
    "right_button = widgets.Button(description='right', layout=button_layout)\n",
    "speed_slider = widgets.FloatSlider(value=0.5, min=0.2, max=1.0, step=0.1, description='Speed:',\n",
    "                                   disabled=False, continuous_update=False, orientation='vertical',\n",
    "                                   readout=True, readout_format='.1f')\n",
    "\n",
    "# video frame\n",
    "video = widgets.HTML(value=\"<iframe src='http://192.168.0.138:4664/' width=450 height=380>\")\n",
    "\n",
    "# lights\n",
    "toggle = widgets.ToggleButton(description='Light', \n",
    "                              layout=widgets.Layout(width='80px', height='30px', margin='30px', align_self='center'))\n",
    "color = widgets.ColorPicker(concise=False, description='Color', value='#FF0000', disabled=False)\n",
    "\n",
    "# display buttons\n",
    "light_box = widgets.VBox([toggle,color])\n",
    "middle_box = widgets.HBox([left_button, stop_button, right_button], layout=widgets.Layout(align_self='center'))\n",
    "controls_box = widgets.VBox([forward_button, middle_box, backward_button, light_box])\n",
    "\n",
    "# all togehter\n",
    "ui = widgets.HBox([video, controls_box, speed_slider])"
   ]
  },
  {
   "cell_type": "code",
   "execution_count": 7,
   "id": "8c565d72",
   "metadata": {},
   "outputs": [],
   "source": [
    "def doStop(button):\n",
    "    bot.stop()\n",
    "\n",
    "def doForward(button):\n",
    "    bot.forward(speed_slider.value)\n",
    "    time.sleep(0.5)\n",
    "    bot.stop()\n",
    "    \n",
    "def doBackward(button):\n",
    "    bot.backward(speed_slider.value)\n",
    "    time.sleep(0.5)\n",
    "    bot.stop()\n",
    "    \n",
    "def doLeft(button):\n",
    "    bot.left(speed_slider.value)\n",
    "    time.sleep(0.5)\n",
    "    bot.stop()\n",
    "    \n",
    "def doRight(button):\n",
    "    bot.right(speed_slider.value)\n",
    "    time.sleep(0.5)\n",
    "    bot.stop()\n",
    "    \n",
    "def doSwitch(change):\n",
    "    if(change['new']):\n",
    "        c=ImageColor.getcolor(color.value, \"RGB\")\n",
    "        command=bytes(f\"neo {c[0]} {c[1]} {c[2]}\\r\", 'utf-8')\n",
    "        s.write(command)\n",
    "    else:\n",
    "        s.write(b\"neo 0 0 0\\r\")\n",
    "\n",
    "stop_button.on_click(doStop)\n",
    "forward_button.on_click(doForward)\n",
    "backward_button.on_click(doBackward)\n",
    "left_button.on_click(doLeft)\n",
    "right_button.on_click(doRight)\n",
    "toggle.observe(doSwitch, 'value')"
   ]
  },
  {
   "cell_type": "markdown",
   "id": "bec288cf",
   "metadata": {},
   "source": [
    "Display the buttons and video feed."
   ]
  },
  {
   "cell_type": "code",
   "execution_count": 8,
   "id": "a2bdd62c",
   "metadata": {},
   "outputs": [
    {
     "data": {
      "application/vnd.jupyter.widget-view+json": {
       "model_id": "2b6c1231914b472ab2a8f73d4f99c126",
       "version_major": 2,
       "version_minor": 0
      },
      "text/plain": [
       "HBox(children=(HTML(value=\"<iframe src='http://192.168.0.138:4664/' width=450 height=380>\"), VBox(children=(Bu…"
      ]
     },
     "metadata": {},
     "output_type": "display_data"
    }
   ],
   "source": [
    "display(ui)"
   ]
  },
  {
   "cell_type": "markdown",
   "id": "e23d4aed",
   "metadata": {},
   "source": [
    "### Control and enjoy\n",
    "\n",
    "Note the poor little Pi Zero is kind of struggling and the resonse is sluggish. So drive slow 🙂 When done run the cells below to close everything properly. You still need to restart the kernel to run it again because of the Servos apparently not releasing the pins properly."
   ]
  },
  {
   "cell_type": "code",
   "execution_count": null,
   "id": "34daca26",
   "metadata": {},
   "outputs": [],
   "source": [
    "# Cleanup\n",
    "server.close()\n",
    "camera.close()\n",
    "bot.close()\n",
    "s.close()"
   ]
  }
 ],
 "metadata": {
  "kernelspec": {
   "display_name": "Python 3 (ipykernel)",
   "language": "python",
   "name": "python3"
  },
  "language_info": {
   "codemirror_mode": {
    "name": "ipython",
    "version": 3
   },
   "file_extension": ".py",
   "mimetype": "text/x-python",
   "name": "python",
   "nbconvert_exporter": "python",
   "pygments_lexer": "ipython3",
   "version": "3.7.3"
  }
 },
 "nbformat": 4,
 "nbformat_minor": 5
}
