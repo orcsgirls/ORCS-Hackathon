{
 "cells": [
  {
   "cell_type": "markdown",
   "id": "b0e60791",
   "metadata": {},
   "source": [
    "## Simple code to test the servos\n",
    "\n",
    "Inspired by AIY servo examples."
   ]
  },
  {
   "cell_type": "code",
   "execution_count": 1,
   "id": "d25b598c",
   "metadata": {},
   "outputs": [],
   "source": [
    "from gpiozero import Servo\n",
    "from aiy.pins import PIN_A, PIN_B\n",
    "\n",
    "import time"
   ]
  },
  {
   "cell_type": "markdown",
   "id": "1bb8e58d",
   "metadata": {},
   "source": [
    "Create objects for both motors"
   ]
  },
  {
   "cell_type": "code",
   "execution_count": 2,
   "id": "60ec656f",
   "metadata": {},
   "outputs": [
    {
     "name": "stderr",
     "output_type": "stream",
     "text": [
      "/usr/lib/python3/dist-packages/gpiozero/output_devices.py:1533: PWMSoftwareFallback: To reduce servo jitter, use the pigpio pin factory.See https://gpiozero.readthedocs.io/en/stable/api_output.html#servo for more info\n",
      "  'To reduce servo jitter, use the pigpio pin factory.'\n"
     ]
    }
   ],
   "source": [
    "motor_left = Servo(PIN_A)\n",
    "motor_right = Servo(PIN_B)"
   ]
  },
  {
   "cell_type": "markdown",
   "id": "59839f5c",
   "metadata": {},
   "source": [
    "We need to find a value where the servo does not move (close to zero)"
   ]
  },
  {
   "cell_type": "code",
   "execution_count": 7,
   "id": "3c10523f",
   "metadata": {},
   "outputs": [],
   "source": [
    "motor_left.value = -0.05\n",
    "motor_right.value = -0.05"
   ]
  },
  {
   "cell_type": "markdown",
   "id": "d240afa6",
   "metadata": {},
   "source": [
    "Let's see if we can drive ;)"
   ]
  },
  {
   "cell_type": "code",
   "execution_count": 5,
   "id": "fa4f2105",
   "metadata": {},
   "outputs": [],
   "source": [
    "# Forward\n",
    "motor_left.value = 0.2\n",
    "motor_right.value = 0.2"
   ]
  },
  {
   "cell_type": "code",
   "execution_count": 6,
   "id": "f1fa5b79",
   "metadata": {},
   "outputs": [],
   "source": [
    "# Stop again\n",
    "motor_left.value = -0.05\n",
    "motor_right.value = -0.05"
   ]
  },
  {
   "cell_type": "code",
   "execution_count": null,
   "id": "63ba0273",
   "metadata": {},
   "outputs": [],
   "source": []
  }
 ],
 "metadata": {
  "kernelspec": {
   "display_name": "Python 3 (ipykernel)",
   "language": "python",
   "name": "python3"
  },
  "language_info": {
   "codemirror_mode": {
    "name": "ipython",
    "version": 3
   },
   "file_extension": ".py",
   "mimetype": "text/x-python",
   "name": "python",
   "nbconvert_exporter": "python",
   "pygments_lexer": "ipython3",
   "version": "3.7.3"
  }
 },
 "nbformat": 4,
 "nbformat_minor": 5
}
