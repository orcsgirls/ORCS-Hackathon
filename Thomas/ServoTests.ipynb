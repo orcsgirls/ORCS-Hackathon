{
 "cells": [
  {
   "cell_type": "markdown",
   "id": "3b0ce4e3",
   "metadata": {},
   "source": [
    "## Simple code to test the servos\n",
    "\n",
    "Inspired by <a href=\"https://aiyprojects.withgoogle.com/vision#makers-guide--gpio-expansion-pins\">AIY servo examples</a> and the <a href=\"https://github.com/NVIDIA-AI-IOT/jetbot/tree/master/jetbot\">Jetbot Robot</a> class.\n",
    "\n",
    "Here we assume your servos are connected to PIN_A and PIN_B."
   ]
  },
  {
   "cell_type": "code",
   "execution_count": null,
   "id": "f0ed206d",
   "metadata": {},
   "outputs": [],
   "source": [
    "from gpiozero import Servo\n",
    "from aiy.pins import PIN_A, PIN_B\n",
    "\n",
    "import time"
   ]
  },
  {
   "cell_type": "markdown",
   "id": "82a5b544",
   "metadata": {},
   "source": [
    "### Robot class\n",
    "\n",
    "While we could use the servos separate, we can make our lives easier by creating a class for the robot (similar to the Jetbot example). This also allows easy reuse later 🙂\n",
    "\n",
    "Our class needs a methos `__init__` that is called when the object is created and then methods to drive forward, backward, left and right. So here we go .."
   ]
  },
  {
   "cell_type": "code",
   "execution_count": null,
   "id": "9f6070eb",
   "metadata": {},
   "outputs": [],
   "source": [
    "class Robot():\n",
    "    \n",
    "    def __init__(self, pin_right=PIN_A, pin_left=PIN_B, zero_left=-0.05, zero_right=-0.05):\n",
    "        self.motor_right = Servo(pin_right)\n",
    "        self.motor_left  = Servo(pin_left)\n",
    "        \n",
    "        # Offsets so Servo is off at this value (should be zero)\n",
    "        self.zero_left   = zero_left\n",
    "        self.zero_right  = zero_right\n",
    "        self.stop()\n",
    "        \n",
    "    def forward(self, speed=0.5):\n",
    "        self.motor_left.value = -speed\n",
    "        self.motor_right.value = speed\n",
    "\n",
    "    def backward(self, speed=0.5):\n",
    "        self.motor_left.value = speed\n",
    "        self.motor_right.value = -speed\n",
    "\n",
    "    def right(self, speed=0.5):\n",
    "        self.motor_left.value = speed\n",
    "        self.motor_right.value = speed\n",
    "\n",
    "    def left(self, speed=0.5):\n",
    "        self.motor_left.value = -speed\n",
    "        self.motor_right.value = -speed\n",
    "\n",
    "    def stop(self):\n",
    "        self.motor_left.value = self.zero_left\n",
    "        self.motor_right.value = self.zero_right\n",
    "        \n",
    "    def close(self):\n",
    "        self.stop()\n",
    "        self.motor_right.close()\n",
    "        self.motor_left.close()"
   ]
  },
  {
   "cell_type": "markdown",
   "id": "db8f8123",
   "metadata": {},
   "source": [
    "Now we have the robot class. We can instanciate the class (create an object) and use it to drive around."
   ]
  },
  {
   "cell_type": "code",
   "execution_count": null,
   "id": "06749345",
   "metadata": {},
   "outputs": [],
   "source": [
    "bot = Robot()"
   ]
  },
  {
   "cell_type": "markdown",
   "id": "82a199bf",
   "metadata": {},
   "source": [
    "Lets drive forward to 1 second."
   ]
  },
  {
   "cell_type": "code",
   "execution_count": null,
   "id": "da907c83",
   "metadata": {},
   "outputs": [],
   "source": [
    "bot.forward()\n",
    "time.sleep(1)\n",
    "bot.stop()"
   ]
  },
  {
   "cell_type": "markdown",
   "id": "da5b81a6",
   "metadata": {},
   "source": [
    "We can go slower by providing the optional speed parameter going from 0 to 1."
   ]
  },
  {
   "cell_type": "code",
   "execution_count": null,
   "id": "1b92de3b",
   "metadata": {},
   "outputs": [],
   "source": [
    "bot.forward(speed=0.2)\n",
    "time.sleep(1)\n",
    "bot.stop()"
   ]
  },
  {
   "cell_type": "markdown",
   "id": "cd30a87f",
   "metadata": {},
   "source": [
    "In addition to the methods `forward`, `backward`, `left` and `right`, we can also access `motor_right` and `motor_left` as well as `zero_right` and `zero_right` directly. For examples we can check and change the zero_right value like shown below. To use the value we need to call the stop as well. This way you can adjust the value until the motors do not move or jitter 🥳"
   ]
  },
  {
   "cell_type": "code",
   "execution_count": null,
   "id": "c542eac7",
   "metadata": {},
   "outputs": [],
   "source": [
    "bot.zero_left = -0.02\n",
    "print(bot.zero_left)\n",
    "bot.stop()"
   ]
  },
  {
   "cell_type": "markdown",
   "id": "dd5043d1",
   "metadata": {},
   "source": [
    "### Moving the code into separate file\n",
    "\n",
    "THe easiest way to reuse the robot class is to but the class definition in a separate file and call it using an import. Check the folder robot and open robot.py and __init__.py. This is essentially the class we definted about and a short file telling Python where it is. Note we also included the needed imports in the robot.py file. Now you can simplit use\n",
    "\n",
    "``from robot import Robot``\n",
    "\n",
    "and you are reeady to use the class in any Notebook."
   ]
  },
  {
   "cell_type": "code",
   "execution_count": null,
   "id": "27dfc193",
   "metadata": {},
   "outputs": [],
   "source": []
  }
 ],
 "metadata": {
  "kernelspec": {
   "display_name": "Python 3 (ipykernel)",
   "language": "python",
   "name": "python3"
  },
  "language_info": {
   "codemirror_mode": {
    "name": "ipython",
    "version": 3
   },
   "file_extension": ".py",
   "mimetype": "text/x-python",
   "name": "python",
   "nbconvert_exporter": "python",
   "pygments_lexer": "ipython3",
   "version": "3.7.3"
  }
 },
 "nbformat": 4,
 "nbformat_minor": 5
}
