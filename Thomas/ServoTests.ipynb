{
 "cells": [
  {
   "cell_type": "markdown",
   "id": "3b0ce4e3",
   "metadata": {},
   "source": [
    "## Simple code to test the servos\n",
    "\n",
    "Inspired by AIY servo examples."
   ]
  },
  {
   "cell_type": "code",
   "execution_count": 1,
   "id": "f0ed206d",
   "metadata": {},
   "outputs": [],
   "source": [
    "from IPython.display import display, HTML, IFrame\n",
    "from aiy.vision.streaming.server import StreamingServer\n",
    "from picamera import PiCamera\n",
    "import ipywidgets.widgets as widgets\n",
    "from IPython.display import display, HTML, IFrame\n",
    "\n",
    "from gpiozero import Servo\n",
    "from aiy.pins import PIN_A, PIN_B\n",
    "\n",
    "import time"
   ]
  },
  {
   "cell_type": "code",
   "execution_count": 2,
   "id": "9f6070eb",
   "metadata": {},
   "outputs": [],
   "source": [
    "class Robot():\n",
    "    def __init__(self, pin_right=PIN_A, pin_left=PIN_B, zero_left=-0.05, zero_right=-0.05):\n",
    "        self.pin_right = pin_right\n",
    "        self.pin_left = pin_left\n",
    "        self.zero_right = zero_right\n",
    "        self.zero_left = zero_left\n",
    "        \n",
    "        self.motor_left = Servo(self.pin_right)\n",
    "        self.motor_right = Servo(self.pin_left)\n",
    "    \n",
    "    def forward(self, speed=0.5):\n",
    "        self.motor_left.value = speed\n",
    "        self.motor_right.value = -speed\n",
    "\n",
    "    def backward(self, speed=0.5):\n",
    "        self.motor_left.value = -speed\n",
    "        self.motor_right.value = speed\n",
    "\n",
    "    def left(self, speed=0.5):\n",
    "        self.motor_left.value = speed\n",
    "        self.motor_right.value = self.zero_right\n",
    "\n",
    "    def right(self, speed=0.5):\n",
    "        self.motor_left.value = self.zero_left\n",
    "        self.motor_right.value = -speed\n",
    "\n",
    "    def stop(self):\n",
    "        self.motor_left.value = self.zero_left\n",
    "        self.motor_right.value = self.zero_right\n",
    "        "
   ]
  },
  {
   "cell_type": "code",
   "execution_count": 3,
   "id": "06749345",
   "metadata": {},
   "outputs": [
    {
     "name": "stderr",
     "output_type": "stream",
     "text": [
      "/usr/lib/python3/dist-packages/gpiozero/output_devices.py:1533: PWMSoftwareFallback: To reduce servo jitter, use the pigpio pin factory.See https://gpiozero.readthedocs.io/en/stable/api_output.html#servo for more info\n",
      "  'To reduce servo jitter, use the pigpio pin factory.'\n"
     ]
    }
   ],
   "source": [
    "bot = Robot()"
   ]
  },
  {
   "cell_type": "code",
   "execution_count": 4,
   "id": "819f2ad2",
   "metadata": {},
   "outputs": [],
   "source": [
    "camera = PiCamera(sensor_mode=4, resolution=(410, 308))\n",
    "server = StreamingServer(camera, bitrate=75000)"
   ]
  },
  {
   "cell_type": "code",
   "execution_count": 5,
   "id": "9788280d",
   "metadata": {},
   "outputs": [
    {
     "data": {
      "application/vnd.jupyter.widget-view+json": {
       "model_id": "e2e29696f76f49bca178e26bf45f5fca",
       "version_major": 2,
       "version_minor": 0
      },
      "text/plain": [
       "HBox(children=(HTML(value=\"<iframe src='http://192.168.0.138:4664/' width=450 height=380>\"), VBox(children=(Bu…"
      ]
     },
     "metadata": {},
     "output_type": "display_data"
    }
   ],
   "source": [
    "# create buttons\n",
    "button_layout = widgets.Layout(width='100px', height='80px', align_self='center')\n",
    "stop_button = widgets.Button(description='stop', button_style='danger', layout=button_layout)\n",
    "forward_button = widgets.Button(description='forward', layout=button_layout)\n",
    "backward_button = widgets.Button(description='backward', layout=button_layout)\n",
    "left_button = widgets.Button(description='left', layout=button_layout)\n",
    "right_button = widgets.Button(description='right', layout=button_layout)\n",
    "\n",
    "speed_slider = widgets.FloatSlider(value=0.5, min=0.2, max=1.0, step=0.1, description='Speed:',\n",
    "                                   disabled=False, continuous_update=False, orientation='vertical',\n",
    "                                   readout=True, readout_format='.1f')\n",
    "\n",
    "# display buttons\n",
    "middle_box = widgets.HBox([left_button, stop_button, right_button], layout=widgets.Layout(align_self='center'))\n",
    "controls_box = widgets.VBox([forward_button, middle_box, backward_button])\n",
    "\n",
    "# video frame\n",
    "video = widgets.HTML(value=\"<iframe src='http://192.168.0.138:4664/' width=450 height=380>\")\n",
    "\n",
    "display(widgets.HBox([video,controls_box,speed_slider]))"
   ]
  },
  {
   "cell_type": "code",
   "execution_count": 6,
   "id": "9975b7e3",
   "metadata": {},
   "outputs": [],
   "source": [
    "def stop(change):\n",
    "    bot.stop()\n",
    "    \n",
    "def step_forward(change):\n",
    "    bot.forward(speed_slider.value)\n",
    "    time.sleep(0.5)\n",
    "    bot.stop()\n",
    "\n",
    "def step_backward(change):\n",
    "    bot.backward(speed_slider.value)\n",
    "    time.sleep(0.5)\n",
    "    bot.stop()\n",
    "\n",
    "def step_left(change):\n",
    "    bot.left(speed_slider.value)\n",
    "    time.sleep(0.5)\n",
    "    bot.stop()\n",
    "\n",
    "def step_right(change):\n",
    "    bot.right(speed_slider.value)\n",
    "    time.sleep(0.5)\n",
    "    bot.stop()"
   ]
  },
  {
   "cell_type": "code",
   "execution_count": 7,
   "id": "5dbd25e1",
   "metadata": {},
   "outputs": [],
   "source": [
    "# link buttons to actions\n",
    "stop_button.on_click(stop)\n",
    "forward_button.on_click(step_forward)\n",
    "backward_button.on_click(step_backward)\n",
    "left_button.on_click(step_left)\n",
    "right_button.on_click(step_right)"
   ]
  },
  {
   "cell_type": "code",
   "execution_count": null,
   "id": "7d2cbf6e",
   "metadata": {},
   "outputs": [],
   "source": [
    "server.close()\n",
    "camera.close()"
   ]
  },
  {
   "cell_type": "code",
   "execution_count": null,
   "id": "da907c83",
   "metadata": {},
   "outputs": [],
   "source": []
  }
 ],
 "metadata": {
  "kernelspec": {
   "display_name": "Python 3 (ipykernel)",
   "language": "python",
   "name": "python3"
  },
  "language_info": {
   "codemirror_mode": {
    "name": "ipython",
    "version": 3
   },
   "file_extension": ".py",
   "mimetype": "text/x-python",
   "name": "python",
   "nbconvert_exporter": "python",
   "pygments_lexer": "ipython3",
   "version": "3.7.3"
  }
 },
 "nbformat": 4,
 "nbformat_minor": 5
}
